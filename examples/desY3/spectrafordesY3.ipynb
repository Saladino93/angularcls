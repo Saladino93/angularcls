{
 "cells": [
  {
   "attachments": {},
   "cell_type": "markdown",
   "metadata": {},
   "source": [
    "# Spectra for DES Y3\n",
    "\n",
    "In this notebook we would like to check the Limber approximation for the galaxy clustering angular power spectra of DES Y3.\n",
    "\n",
    "Below we will also explore a CMB lensing cross-correlation example from Advanced ACT survey DR6 release. \n",
    "\n"
   ]
  },
  {
   "cell_type": "code",
   "execution_count": null,
   "metadata": {},
   "outputs": [],
   "source": []
  }
 ],
 "metadata": {
  "kernelspec": {
   "display_name": "algo",
   "language": "python",
   "name": "python3"
  },
  "language_info": {
   "name": "python",
   "version": "3.8.13 | packaged by conda-forge | (default, Mar 25 2022, 06:04:14) \n[Clang 12.0.1 ]"
  },
  "orig_nbformat": 4,
  "vscode": {
   "interpreter": {
    "hash": "14bb1e8694256cbe39d410934108fa93dbace86338fa125abdeb604f094bebf6"
   }
  }
 },
 "nbformat": 4,
 "nbformat_minor": 2
}
